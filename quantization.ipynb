{
 "cells": [
  {
   "cell_type": "code",
   "execution_count": 1,
   "id": "c4da182c-e6f7-4625-b7cc-c934c8e29c30",
   "metadata": {},
   "outputs": [],
   "source": [
    "import torch\n",
    "import torch.nn as nn\n",
    "import torch.optim as optim\n",
    "import torchvision\n",
    "import torchvision.transforms as transforms\n",
    "import matplotlib.pyplot as plt\n",
    "\n",
    "device = torch.device(\"cuda\" if torch.cuda.is_available() else \"cpu\")\n",
    "transform = transforms.Compose([transforms.ToTensor(), transforms.Normalize((0.5,), (0.5,))])\n",
    "trainset = torchvision.datasets.MNIST(root='./data', train=True, download=True, transform=transform)\n",
    "trainloader = torch.utils.data.DataLoader(trainset, batch_size=64, shuffle=True)\n"
   ]
  },
  {
   "cell_type": "code",
   "execution_count": 2,
   "id": "ba629b4e-d01b-4432-bc2f-9ca9180ae41c",
   "metadata": {},
   "outputs": [],
   "source": [
    "class SimpleCNN(nn.Module):\n",
    "    def __init__(self):\n",
    "        super(SimpleCNN, self).__init__()\n",
    "        self.conv = nn.Sequential(\n",
    "            nn.Conv2d(1, 8, 3), nn.ReLU(), nn.MaxPool2d(2),\n",
    "            nn.Conv2d(8, 16, 3), nn.ReLU(), nn.MaxPool2d(2)\n",
    "        )\n",
    "        self.fc = nn.Sequential(\n",
    "            nn.Linear(16*5*5, 64), nn.ReLU(), nn.Linear(64, 10)\n",
    "        )\n",
    "\n",
    "    def forward(self, x):\n",
    "        x = self.conv(x)\n",
    "        x = x.view(-1, 16*5*5)\n",
    "        return self.fc(x)\n"
   ]
  },
  {
   "cell_type": "code",
   "execution_count": 3,
   "id": "f5295d26-6b05-44d3-a243-c2398b149cad",
   "metadata": {},
   "outputs": [],
   "source": [
    "def histogram_weights(model, title):\n",
    "    weights = []\n",
    "    for name, param in model.named_parameters():\n",
    "        if param.requires_grad:\n",
    "            weights.append(param.detach().cpu().view(-1))\n",
    "    if not weights:\n",
    "        print(f\"[INFO] Aucun poids à afficher pour : {title}\")\n",
    "        return\n",
    "    all_weights = torch.cat(weights)\n",
    "    plt.hist(all_weights.numpy(), bins=50)\n",
    "    plt.title(title)\n",
    "    plt.xlabel(\"Valeur des poids\")\n",
    "    plt.ylabel(\"Fréquence\")\n",
    "    plt.grid(True)\n",
    "    plt.show()\n"
   ]
  },
  {
   "cell_type": "code",
   "execution_count": 4,
   "id": "8f202342-3ddc-4f70-8600-5b84b5808b3a",
   "metadata": {},
   "outputs": [],
   "source": [
    "def train_and_quantize(model, trainloader, epochs=3):\n",
    "    model.train()\n",
    "    criterion = nn.CrossEntropyLoss()\n",
    "    optimizer = optim.Adam(model.parameters(), lr=0.001)\n",
    "    losses = []\n",
    "\n",
    "    for epoch in range(epochs):\n",
    "        total_loss = 0.0\n",
    "        for x, y in trainloader:\n",
    "            x, y = x.to(device), y.to(device)\n",
    "            optimizer.zero_grad()\n",
    "            output = model(x)\n",
    "            loss = criterion(output, y)\n",
    "            loss.backward()\n",
    "            optimizer.step()\n",
    "            total_loss += loss.item()\n",
    "        avg_loss = total_loss / len(trainloader)\n",
    "        print(f\"Epoch {epoch+1}, Loss: {avg_loss:.4f}\")\n",
    "        losses.append(avg_loss)\n",
    "\n",
    "    # Perte\n",
    "    plt.plot(losses, marker='o')\n",
    "    plt.title(\"Loss avant quantization\")\n",
    "    plt.xlabel(\"Époques\")\n",
    "    plt.ylabel(\"Loss\")\n",
    "    plt.grid(True)\n",
    "    plt.show()\n",
    "\n",
    "    # Avant quantization\n",
    "    histogram_weights(model, \"Poids AVANT Quantization\")\n",
    "\n",
    "    # Quantization dynamique\n",
    "    model.cpu()\n",
    "    model_quantized = torch.quantization.quantize_dynamic(\n",
    "        model, {nn.Linear}, dtype=torch.qint8\n",
    "    )\n",
    "\n",
    "    # Après quantization\n",
    "    histogram_weights(model_quantized, \"Poids APRÈS Quantization\")\n"
   ]
  },
  {
   "cell_type": "code",
   "execution_count": null,
   "id": "0cdbe7b4-1528-4b3d-8548-0ea7754a6f51",
   "metadata": {},
   "outputs": [
    {
     "name": "stdout",
     "output_type": "stream",
     "text": [
      "Epoch 1, Loss: 0.2766\n",
      "Epoch 2, Loss: 0.0812\n"
     ]
    }
   ],
   "source": [
    "model = SimpleCNN().to(device)\n",
    "train_and_quantize(model, trainloader)\n"
   ]
  }
 ],
 "metadata": {
  "kernelspec": {
   "display_name": "Python 3 (ipykernel)",
   "language": "python",
   "name": "python3"
  },
  "language_info": {
   "codemirror_mode": {
    "name": "ipython",
    "version": 3
   },
   "file_extension": ".py",
   "mimetype": "text/x-python",
   "name": "python",
   "nbconvert_exporter": "python",
   "pygments_lexer": "ipython3",
   "version": "3.13.1"
  }
 },
 "nbformat": 4,
 "nbformat_minor": 5
}
